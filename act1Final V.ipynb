{
 "cells": [
  {
   "attachments": {},
   "cell_type": "markdown",
   "metadata": {},
   "source": [
    "Assignment 1\n",
    "Written By: Hamza Shaikh\n",
    "Last Edited: 2/20/23\n",
    "\n",
    "Generating a random forest tree and gradient boosted model to predict if 3-1-1 calls can be successfully resolved.\n",
    "\n",
    "In doing so I have been able to create model that predicts if 3-1-1 calls can be successfully resolved with a a mean absolute error of __0.327 with the random forest model__ and a mean absolute error of __0.377 with the gradient boosted model__.\n",
    "\n",
    "I then went on to come up with the mean time to resolution by using the datetime library to calculate the date difference between open and close for each case, then take the average. __This yielded an average time of 33 days 01:34:12.793832299__.\n",
    "\n",
    "In addition, through the use of the seascape library, I was able to generate scatter plots to see what parameters had the largest impact on the cases being closed or resolved. "
   ]
  },
  {
   "cell_type": "code",
   "execution_count": 1,
   "metadata": {},
   "outputs": [],
   "source": [
    "# Import libraries\n",
    "\n",
    "import pandas as pd\n",
    "import sklearn\n",
    "from sklearn.model_selection import train_test_split\n",
    "from sklearn.metrics import mean_absolute_error\n",
    "from sklearn import preprocessing\n",
    "from sklearn.preprocessing import scale"
   ]
  },
  {
   "cell_type": "code",
   "execution_count": 34,
   "metadata": {},
   "outputs": [],
   "source": [
    "# random forest generation returning the mean absolute error\n",
    "\n",
    "from sklearn.ensemble import RandomForestRegressor\n",
    "\n",
    "def get_random_forest_mae(X_trn,X_tst,y_trn,y_tst):\n",
    "  mdl = RandomForestRegressor(random_state=1)\n",
    "  mdl.fit(X_trn,y_trn)\n",
    "  y_tst_prd = mdl.predict(X_tst)\n",
    "  mae = mean_absolute_error(y_tst,y_tst_prd)\n",
    "  return mae"
   ]
  },
  {
   "cell_type": "code",
   "execution_count": 3,
   "metadata": {},
   "outputs": [
    {
     "name": "stderr",
     "output_type": "stream",
     "text": [
      "c:\\Users\\hamza\\anaconda3\\lib\\site-packages\\IPython\\core\\interactiveshell.py:3444: DtypeWarning: Columns (5) have mixed types.Specify dtype option on import or set low_memory=False.\n",
      "  exec(code_obj, self.user_global_ns, self.user_ns)\n"
     ]
    },
    {
     "data": {
      "text/html": [
       "<div>\n",
       "<style scoped>\n",
       "    .dataframe tbody tr th:only-of-type {\n",
       "        vertical-align: middle;\n",
       "    }\n",
       "\n",
       "    .dataframe tbody tr th {\n",
       "        vertical-align: top;\n",
       "    }\n",
       "\n",
       "    .dataframe thead th {\n",
       "        text-align: right;\n",
       "    }\n",
       "</style>\n",
       "<table border=\"1\" class=\"dataframe\">\n",
       "  <thead>\n",
       "    <tr style=\"text-align: right;\">\n",
       "      <th></th>\n",
       "      <th>Service Request (SR) Number</th>\n",
       "      <th>SR Description</th>\n",
       "      <th>Method Received</th>\n",
       "      <th>SR Status</th>\n",
       "      <th>SR Location</th>\n",
       "      <th>Street Number</th>\n",
       "      <th>Street Name</th>\n",
       "      <th>City</th>\n",
       "      <th>Zip Code</th>\n",
       "      <th>County</th>\n",
       "      <th>Latitude Coordinate</th>\n",
       "      <th>Longitude Coordinate</th>\n",
       "      <th>(Latitude.Longitude)</th>\n",
       "      <th>Council District</th>\n",
       "      <th>Created Date</th>\n",
       "      <th>Closed Date</th>\n",
       "    </tr>\n",
       "  </thead>\n",
       "  <tbody>\n",
       "    <tr>\n",
       "      <th>0</th>\n",
       "      <td>19-00090956</td>\n",
       "      <td>Animal - Proper Care</td>\n",
       "      <td>Phone</td>\n",
       "      <td>Closed</td>\n",
       "      <td>4609 RIBBECKE AVE, AUSTIN, TX 78721</td>\n",
       "      <td>4609</td>\n",
       "      <td>RIBBECKE</td>\n",
       "      <td>AUSTIN</td>\n",
       "      <td>78721.0</td>\n",
       "      <td>TRAVIS</td>\n",
       "      <td>30.280581</td>\n",
       "      <td>-97.685318</td>\n",
       "      <td>(30.28058076, -97.68531793)</td>\n",
       "      <td>1.0</td>\n",
       "      <td>2019-03-14 03:02:15</td>\n",
       "      <td>2020-11-23 01:41:21</td>\n",
       "    </tr>\n",
       "    <tr>\n",
       "      <th>1</th>\n",
       "      <td>20-00135805</td>\n",
       "      <td>Tree Issue ROW</td>\n",
       "      <td>Mobile Device</td>\n",
       "      <td>Closed</td>\n",
       "      <td>3521 WEST AVE, AUSTIN, TX 78705</td>\n",
       "      <td>3521</td>\n",
       "      <td>WEST</td>\n",
       "      <td>AUSTIN</td>\n",
       "      <td>78705.0</td>\n",
       "      <td>TRAVIS</td>\n",
       "      <td>30.302857</td>\n",
       "      <td>-97.742312</td>\n",
       "      <td>(30.30285681, -97.74231249)</td>\n",
       "      <td>9.0</td>\n",
       "      <td>2020-04-07 07:06:32</td>\n",
       "      <td>2020-11-23 12:02:05</td>\n",
       "    </tr>\n",
       "    <tr>\n",
       "      <th>2</th>\n",
       "      <td>20-00052942</td>\n",
       "      <td>Pothole Repair</td>\n",
       "      <td>Web</td>\n",
       "      <td>Closed</td>\n",
       "      <td>7900 E BEN WHITE BLVD WB, AUSTIN, TX</td>\n",
       "      <td>7900</td>\n",
       "      <td>BEN WHITE BLVD WB</td>\n",
       "      <td>AUSTIN</td>\n",
       "      <td>78741.0</td>\n",
       "      <td>TRAVIS</td>\n",
       "      <td>30.219838</td>\n",
       "      <td>-97.688440</td>\n",
       "      <td>(30.21983764, -97.68844011)</td>\n",
       "      <td>3.0</td>\n",
       "      <td>2020-02-12 01:55:04</td>\n",
       "      <td>2020-02-12 12:57:35</td>\n",
       "    </tr>\n",
       "    <tr>\n",
       "      <th>3</th>\n",
       "      <td>19-00467964</td>\n",
       "      <td>ARR Dead Animal Collection</td>\n",
       "      <td>Phone</td>\n",
       "      <td>Closed</td>\n",
       "      <td>7100 METROPOLIS DR, AUSTIN, TX 78744</td>\n",
       "      <td>7100</td>\n",
       "      <td>METROPOLIS</td>\n",
       "      <td>AUSTIN</td>\n",
       "      <td>78744.0</td>\n",
       "      <td>TRAVIS</td>\n",
       "      <td>30.206036</td>\n",
       "      <td>-97.702592</td>\n",
       "      <td>(30.20603574, -97.70259216)</td>\n",
       "      <td>2.0</td>\n",
       "      <td>2019-12-10 02:17:04</td>\n",
       "      <td>2019-12-11 09:57:54</td>\n",
       "    </tr>\n",
       "    <tr>\n",
       "      <th>4</th>\n",
       "      <td>19-00468033</td>\n",
       "      <td>Austin Code - Request Code Officer</td>\n",
       "      <td>Phone</td>\n",
       "      <td>Closed</td>\n",
       "      <td>2401 GROVE BLVD, AUSTIN, TX 78741</td>\n",
       "      <td>2401</td>\n",
       "      <td>GROVE</td>\n",
       "      <td>AUSTIN</td>\n",
       "      <td>78741.0</td>\n",
       "      <td>TRAVIS</td>\n",
       "      <td>30.221664</td>\n",
       "      <td>-97.707177</td>\n",
       "      <td>(30.22166434, -97.70717698)</td>\n",
       "      <td>3.0</td>\n",
       "      <td>2019-12-10 02:51:24</td>\n",
       "      <td>2019-12-10 03:00:05</td>\n",
       "    </tr>\n",
       "  </tbody>\n",
       "</table>\n",
       "</div>"
      ],
      "text/plain": [
       "  Service Request (SR) Number                      SR Description  \\\n",
       "0                 19-00090956                Animal - Proper Care   \n",
       "1                 20-00135805                      Tree Issue ROW   \n",
       "2                 20-00052942                      Pothole Repair   \n",
       "3                 19-00467964          ARR Dead Animal Collection   \n",
       "4                 19-00468033  Austin Code - Request Code Officer   \n",
       "\n",
       "  Method Received SR Status                           SR Location  \\\n",
       "0           Phone    Closed   4609 RIBBECKE AVE, AUSTIN, TX 78721   \n",
       "1   Mobile Device    Closed       3521 WEST AVE, AUSTIN, TX 78705   \n",
       "2             Web    Closed  7900 E BEN WHITE BLVD WB, AUSTIN, TX   \n",
       "3           Phone    Closed  7100 METROPOLIS DR, AUSTIN, TX 78744   \n",
       "4           Phone    Closed     2401 GROVE BLVD, AUSTIN, TX 78741   \n",
       "\n",
       "  Street Number        Street Name    City  Zip Code  County  \\\n",
       "0          4609           RIBBECKE  AUSTIN   78721.0  TRAVIS   \n",
       "1          3521               WEST  AUSTIN   78705.0  TRAVIS   \n",
       "2          7900  BEN WHITE BLVD WB  AUSTIN   78741.0  TRAVIS   \n",
       "3          7100         METROPOLIS  AUSTIN   78744.0  TRAVIS   \n",
       "4          2401              GROVE  AUSTIN   78741.0  TRAVIS   \n",
       "\n",
       "   Latitude Coordinate  Longitude Coordinate         (Latitude.Longitude)  \\\n",
       "0            30.280581            -97.685318  (30.28058076, -97.68531793)   \n",
       "1            30.302857            -97.742312  (30.30285681, -97.74231249)   \n",
       "2            30.219838            -97.688440  (30.21983764, -97.68844011)   \n",
       "3            30.206036            -97.702592  (30.20603574, -97.70259216)   \n",
       "4            30.221664            -97.707177  (30.22166434, -97.70717698)   \n",
       "\n",
       "   Council District         Created Date          Closed Date  \n",
       "0               1.0  2019-03-14 03:02:15  2020-11-23 01:41:21  \n",
       "1               9.0  2020-04-07 07:06:32  2020-11-23 12:02:05  \n",
       "2               3.0  2020-02-12 01:55:04  2020-02-12 12:57:35  \n",
       "3               2.0  2019-12-10 02:17:04  2019-12-11 09:57:54  \n",
       "4               3.0  2019-12-10 02:51:24  2019-12-10 03:00:05  "
      ]
     },
     "execution_count": 3,
     "metadata": {},
     "output_type": "execute_result"
    }
   ],
   "source": [
    "df = pd.read_csv(\"../austin_311.csv\")\n",
    "df.head()"
   ]
  },
  {
   "cell_type": "code",
   "execution_count": 4,
   "metadata": {},
   "outputs": [],
   "source": [
    "# define our variables, we want to determine the status so that is our y, all other factors are treated as independent to that event\n",
    "# Dropped values with little to no correlation, they are too unique to contribute\n",
    "\n",
    "y = df.loc[:,[\"SR Status\"]]\n",
    "x = df.drop([\"SR Status\",\"SR Location\",\"Created Date\", \"Closed Date\", \"(Latitude.Longitude)\", \"Street Number\", \"Service Request (SR) Number\"], axis = 1)"
   ]
  },
  {
   "attachments": {},
   "cell_type": "markdown",
   "metadata": {},
   "source": [
    "Fixing the data to run a Random Forest Model and a Boosted Gradient Model"
   ]
  },
  {
   "cell_type": "code",
   "execution_count": 5,
   "metadata": {},
   "outputs": [
    {
     "data": {
      "text/html": [
       "<div>\n",
       "<style scoped>\n",
       "    .dataframe tbody tr th:only-of-type {\n",
       "        vertical-align: middle;\n",
       "    }\n",
       "\n",
       "    .dataframe tbody tr th {\n",
       "        vertical-align: top;\n",
       "    }\n",
       "\n",
       "    .dataframe thead th {\n",
       "        text-align: right;\n",
       "    }\n",
       "</style>\n",
       "<table border=\"1\" class=\"dataframe\">\n",
       "  <thead>\n",
       "    <tr style=\"text-align: right;\">\n",
       "      <th></th>\n",
       "      <th>Zip Code</th>\n",
       "      <th>Latitude Coordinate</th>\n",
       "      <th>Longitude Coordinate</th>\n",
       "      <th>Council District</th>\n",
       "    </tr>\n",
       "  </thead>\n",
       "  <tbody>\n",
       "    <tr>\n",
       "      <th>0</th>\n",
       "      <td>78721.0</td>\n",
       "      <td>30.280581</td>\n",
       "      <td>-97.685318</td>\n",
       "      <td>1.0</td>\n",
       "    </tr>\n",
       "    <tr>\n",
       "      <th>1</th>\n",
       "      <td>78705.0</td>\n",
       "      <td>30.302857</td>\n",
       "      <td>-97.742312</td>\n",
       "      <td>9.0</td>\n",
       "    </tr>\n",
       "    <tr>\n",
       "      <th>2</th>\n",
       "      <td>78741.0</td>\n",
       "      <td>30.219838</td>\n",
       "      <td>-97.688440</td>\n",
       "      <td>3.0</td>\n",
       "    </tr>\n",
       "    <tr>\n",
       "      <th>3</th>\n",
       "      <td>78744.0</td>\n",
       "      <td>30.206036</td>\n",
       "      <td>-97.702592</td>\n",
       "      <td>2.0</td>\n",
       "    </tr>\n",
       "    <tr>\n",
       "      <th>4</th>\n",
       "      <td>78741.0</td>\n",
       "      <td>30.221664</td>\n",
       "      <td>-97.707177</td>\n",
       "      <td>3.0</td>\n",
       "    </tr>\n",
       "  </tbody>\n",
       "</table>\n",
       "</div>"
      ],
      "text/plain": [
       "   Zip Code  Latitude Coordinate  Longitude Coordinate  Council District\n",
       "0   78721.0            30.280581            -97.685318               1.0\n",
       "1   78705.0            30.302857            -97.742312               9.0\n",
       "2   78741.0            30.219838            -97.688440               3.0\n",
       "3   78744.0            30.206036            -97.702592               2.0\n",
       "4   78741.0            30.221664            -97.707177               3.0"
      ]
     },
     "execution_count": 5,
     "metadata": {},
     "output_type": "execute_result"
    }
   ],
   "source": [
    "# selecting numeric features of the dataset\n",
    "num_columns = [c for c in x.columns if x[c].dtype in ['int64', 'float64']]\n",
    "x_numeric = x[num_columns]\n",
    "\n",
    "# using x_numeric.isna() I see there are NaN values in the numeric columns, so I will replace with the mean\n",
    "x_numeric = x_numeric.fillna(x_numeric.mean())\n",
    "\n",
    "x_numeric.head()"
   ]
  },
  {
   "cell_type": "code",
   "execution_count": 6,
   "metadata": {},
   "outputs": [
    {
     "data": {
      "text/plain": [
       "Zip Code                0\n",
       "Latitude Coordinate     0\n",
       "Longitude Coordinate    0\n",
       "Council District        0\n",
       "dtype: int64"
      ]
     },
     "execution_count": 6,
     "metadata": {},
     "output_type": "execute_result"
    }
   ],
   "source": [
    "x_numeric.isna().sum()"
   ]
  },
  {
   "cell_type": "code",
   "execution_count": 7,
   "metadata": {},
   "outputs": [
    {
     "name": "stderr",
     "output_type": "stream",
     "text": [
      "c:\\Users\\hamza\\anaconda3\\lib\\site-packages\\pandas\\core\\frame.py:5176: SettingWithCopyWarning: \n",
      "A value is trying to be set on a copy of a slice from a DataFrame\n",
      "\n",
      "See the caveats in the documentation: https://pandas.pydata.org/pandas-docs/stable/user_guide/indexing.html#returning-a-view-versus-a-copy\n",
      "  return super().fillna(\n",
      "C:\\Users\\hamza\\AppData\\Local\\Temp/ipykernel_8492/3500645377.py:12: SettingWithCopyWarning: \n",
      "A value is trying to be set on a copy of a slice from a DataFrame.\n",
      "Try using .loc[row_indexer,col_indexer] = value instead\n",
      "\n",
      "See the caveats in the documentation: https://pandas.pydata.org/pandas-docs/stable/user_guide/indexing.html#returning-a-view-versus-a-copy\n",
      "  x_catergoric[col] = le.fit_transform(x_catergoric[col])\n"
     ]
    },
    {
     "data": {
      "text/html": [
       "<div>\n",
       "<style scoped>\n",
       "    .dataframe tbody tr th:only-of-type {\n",
       "        vertical-align: middle;\n",
       "    }\n",
       "\n",
       "    .dataframe tbody tr th {\n",
       "        vertical-align: top;\n",
       "    }\n",
       "\n",
       "    .dataframe thead th {\n",
       "        text-align: right;\n",
       "    }\n",
       "</style>\n",
       "<table border=\"1\" class=\"dataframe\">\n",
       "  <thead>\n",
       "    <tr style=\"text-align: right;\">\n",
       "      <th></th>\n",
       "      <th>SR Description</th>\n",
       "      <th>Method Received</th>\n",
       "      <th>City</th>\n",
       "      <th>County</th>\n",
       "    </tr>\n",
       "  </thead>\n",
       "  <tbody>\n",
       "    <tr>\n",
       "      <th>0</th>\n",
       "      <td>12</td>\n",
       "      <td>12</td>\n",
       "      <td>2</td>\n",
       "      <td>4</td>\n",
       "    </tr>\n",
       "    <tr>\n",
       "      <th>1</th>\n",
       "      <td>130</td>\n",
       "      <td>9</td>\n",
       "      <td>2</td>\n",
       "      <td>4</td>\n",
       "    </tr>\n",
       "    <tr>\n",
       "      <th>2</th>\n",
       "      <td>92</td>\n",
       "      <td>17</td>\n",
       "      <td>2</td>\n",
       "      <td>4</td>\n",
       "    </tr>\n",
       "    <tr>\n",
       "      <th>3</th>\n",
       "      <td>2</td>\n",
       "      <td>12</td>\n",
       "      <td>2</td>\n",
       "      <td>4</td>\n",
       "    </tr>\n",
       "    <tr>\n",
       "      <th>4</th>\n",
       "      <td>22</td>\n",
       "      <td>12</td>\n",
       "      <td>2</td>\n",
       "      <td>4</td>\n",
       "    </tr>\n",
       "  </tbody>\n",
       "</table>\n",
       "</div>"
      ],
      "text/plain": [
       "   SR Description  Method Received  City  County\n",
       "0              12               12     2       4\n",
       "1             130                9     2       4\n",
       "2              92               17     2       4\n",
       "3               2               12     2       4\n",
       "4              22               12     2       4"
      ]
     },
     "execution_count": 7,
     "metadata": {},
     "output_type": "execute_result"
    }
   ],
   "source": [
    "# Tranforming the categorical data\n",
    "# I go through and replace the empty values with a arbitrary string, so that the empty values get their own unique tranform to be analyzed\n",
    "\n",
    "cat_obj = [c for c in x.columns if x[c].dtype == 'object' and x[c].nunique() < 144]\n",
    "x_catergoric = x[cat_obj]\n",
    "x_catergoric.fillna(\"hamza\", inplace=True)\n",
    "\n",
    "# x_catergoric.isna().sum()\n",
    "le = preprocessing.LabelEncoder()\n",
    "\n",
    "for col in cat_obj:\n",
    "    x_catergoric[col] = le.fit_transform(x_catergoric[col])\n",
    "\n",
    "x_catergoric.head()"
   ]
  },
  {
   "cell_type": "code",
   "execution_count": 8,
   "metadata": {},
   "outputs": [
    {
     "data": {
      "text/plain": [
       "SR Description     0\n",
       "Method Received    0\n",
       "City               0\n",
       "County             0\n",
       "dtype: int64"
      ]
     },
     "execution_count": 8,
     "metadata": {},
     "output_type": "execute_result"
    }
   ],
   "source": [
    "x_catergoric.isna().sum()"
   ]
  },
  {
   "cell_type": "code",
   "execution_count": 9,
   "metadata": {},
   "outputs": [
    {
     "data": {
      "text/html": [
       "<div>\n",
       "<style scoped>\n",
       "    .dataframe tbody tr th:only-of-type {\n",
       "        vertical-align: middle;\n",
       "    }\n",
       "\n",
       "    .dataframe tbody tr th {\n",
       "        vertical-align: top;\n",
       "    }\n",
       "\n",
       "    .dataframe thead th {\n",
       "        text-align: right;\n",
       "    }\n",
       "</style>\n",
       "<table border=\"1\" class=\"dataframe\">\n",
       "  <thead>\n",
       "    <tr style=\"text-align: right;\">\n",
       "      <th></th>\n",
       "      <th>0</th>\n",
       "      <th>1</th>\n",
       "      <th>2</th>\n",
       "      <th>3</th>\n",
       "      <th>4</th>\n",
       "      <th>5</th>\n",
       "      <th>6</th>\n",
       "      <th>7</th>\n",
       "    </tr>\n",
       "  </thead>\n",
       "  <tbody>\n",
       "    <tr>\n",
       "      <th>0</th>\n",
       "      <td>78721.0</td>\n",
       "      <td>30.280581</td>\n",
       "      <td>-97.685318</td>\n",
       "      <td>1.0</td>\n",
       "      <td>12</td>\n",
       "      <td>12</td>\n",
       "      <td>2</td>\n",
       "      <td>4</td>\n",
       "    </tr>\n",
       "    <tr>\n",
       "      <th>1</th>\n",
       "      <td>78705.0</td>\n",
       "      <td>30.302857</td>\n",
       "      <td>-97.742312</td>\n",
       "      <td>9.0</td>\n",
       "      <td>130</td>\n",
       "      <td>9</td>\n",
       "      <td>2</td>\n",
       "      <td>4</td>\n",
       "    </tr>\n",
       "    <tr>\n",
       "      <th>2</th>\n",
       "      <td>78741.0</td>\n",
       "      <td>30.219838</td>\n",
       "      <td>-97.688440</td>\n",
       "      <td>3.0</td>\n",
       "      <td>92</td>\n",
       "      <td>17</td>\n",
       "      <td>2</td>\n",
       "      <td>4</td>\n",
       "    </tr>\n",
       "    <tr>\n",
       "      <th>3</th>\n",
       "      <td>78744.0</td>\n",
       "      <td>30.206036</td>\n",
       "      <td>-97.702592</td>\n",
       "      <td>2.0</td>\n",
       "      <td>2</td>\n",
       "      <td>12</td>\n",
       "      <td>2</td>\n",
       "      <td>4</td>\n",
       "    </tr>\n",
       "    <tr>\n",
       "      <th>4</th>\n",
       "      <td>78741.0</td>\n",
       "      <td>30.221664</td>\n",
       "      <td>-97.707177</td>\n",
       "      <td>3.0</td>\n",
       "      <td>22</td>\n",
       "      <td>12</td>\n",
       "      <td>2</td>\n",
       "      <td>4</td>\n",
       "    </tr>\n",
       "  </tbody>\n",
       "</table>\n",
       "</div>"
      ],
      "text/plain": [
       "         0          1          2    3    4   5  6  7\n",
       "0  78721.0  30.280581 -97.685318  1.0   12  12  2  4\n",
       "1  78705.0  30.302857 -97.742312  9.0  130   9  2  4\n",
       "2  78741.0  30.219838 -97.688440  3.0   92  17  2  4\n",
       "3  78744.0  30.206036 -97.702592  2.0    2  12  2  4\n",
       "4  78741.0  30.221664 -97.707177  3.0   22  12  2  4"
      ]
     },
     "execution_count": 9,
     "metadata": {},
     "output_type": "execute_result"
    }
   ],
   "source": [
    "# Since I originally broke the dataset into numeric and categorical to work them easier, I now combine them back to be one x parameter\n",
    "\n",
    "frames = [x_numeric, x_catergoric]\n",
    "\n",
    "frames\n",
    "x_test = pd.concat(frames, axis =1 ,ignore_index=True)\n",
    "\n",
    "x_test.head()"
   ]
  },
  {
   "cell_type": "code",
   "execution_count": 10,
   "metadata": {},
   "outputs": [
    {
     "data": {
      "text/html": [
       "<div>\n",
       "<style scoped>\n",
       "    .dataframe tbody tr th:only-of-type {\n",
       "        vertical-align: middle;\n",
       "    }\n",
       "\n",
       "    .dataframe tbody tr th {\n",
       "        vertical-align: top;\n",
       "    }\n",
       "\n",
       "    .dataframe thead th {\n",
       "        text-align: right;\n",
       "    }\n",
       "</style>\n",
       "<table border=\"1\" class=\"dataframe\">\n",
       "  <thead>\n",
       "    <tr style=\"text-align: right;\">\n",
       "      <th></th>\n",
       "      <th>SR Status</th>\n",
       "    </tr>\n",
       "  </thead>\n",
       "  <tbody>\n",
       "    <tr>\n",
       "      <th>0</th>\n",
       "      <td>Closed</td>\n",
       "    </tr>\n",
       "    <tr>\n",
       "      <th>1</th>\n",
       "      <td>Closed</td>\n",
       "    </tr>\n",
       "    <tr>\n",
       "      <th>2</th>\n",
       "      <td>Closed</td>\n",
       "    </tr>\n",
       "    <tr>\n",
       "      <th>3</th>\n",
       "      <td>Closed</td>\n",
       "    </tr>\n",
       "    <tr>\n",
       "      <th>4</th>\n",
       "      <td>Closed</td>\n",
       "    </tr>\n",
       "  </tbody>\n",
       "</table>\n",
       "</div>"
      ],
      "text/plain": [
       "  SR Status\n",
       "0    Closed\n",
       "1    Closed\n",
       "2    Closed\n",
       "3    Closed\n",
       "4    Closed"
      ]
     },
     "execution_count": 10,
     "metadata": {},
     "output_type": "execute_result"
    }
   ],
   "source": [
    "y.head()"
   ]
  },
  {
   "cell_type": "code",
   "execution_count": 11,
   "metadata": {},
   "outputs": [
    {
     "data": {
      "text/html": [
       "<div>\n",
       "<style scoped>\n",
       "    .dataframe tbody tr th:only-of-type {\n",
       "        vertical-align: middle;\n",
       "    }\n",
       "\n",
       "    .dataframe tbody tr th {\n",
       "        vertical-align: top;\n",
       "    }\n",
       "\n",
       "    .dataframe thead th {\n",
       "        text-align: right;\n",
       "    }\n",
       "</style>\n",
       "<table border=\"1\" class=\"dataframe\">\n",
       "  <thead>\n",
       "    <tr style=\"text-align: right;\">\n",
       "      <th></th>\n",
       "      <th>SR Status</th>\n",
       "    </tr>\n",
       "  </thead>\n",
       "  <tbody>\n",
       "    <tr>\n",
       "      <th>0</th>\n",
       "      <td>1</td>\n",
       "    </tr>\n",
       "    <tr>\n",
       "      <th>1</th>\n",
       "      <td>1</td>\n",
       "    </tr>\n",
       "    <tr>\n",
       "      <th>2</th>\n",
       "      <td>1</td>\n",
       "    </tr>\n",
       "    <tr>\n",
       "      <th>3</th>\n",
       "      <td>1</td>\n",
       "    </tr>\n",
       "    <tr>\n",
       "      <th>4</th>\n",
       "      <td>1</td>\n",
       "    </tr>\n",
       "  </tbody>\n",
       "</table>\n",
       "</div>"
      ],
      "text/plain": [
       "   SR Status\n",
       "0          1\n",
       "1          1\n",
       "2          1\n",
       "3          1\n",
       "4          1"
      ]
     },
     "execution_count": 11,
     "metadata": {},
     "output_type": "execute_result"
    }
   ],
   "source": [
    "# Transform y categorical data for analysis\n",
    "y_columns = [c for c in y.columns]\n",
    "\n",
    "for c in y_columns:\n",
    "    y[c] = le.fit_transform(y[c])\n",
    "\n",
    "y.head()"
   ]
  },
  {
   "cell_type": "code",
   "execution_count": 12,
   "metadata": {},
   "outputs": [],
   "source": [
    "x_train_t, x_test_t, y_train_t, y_test_t = train_test_split(x_test, y, test_size=0.2, random_state=1)\n"
   ]
  },
  {
   "cell_type": "code",
   "execution_count": 35,
   "metadata": {},
   "outputs": [
    {
     "name": "stderr",
     "output_type": "stream",
     "text": [
      "C:\\Users\\hamza\\AppData\\Local\\Temp/ipykernel_8492/3966056586.py:7: DataConversionWarning: A column-vector y was passed when a 1d array was expected. Please change the shape of y to (n_samples,), for example using ravel().\n",
      "  mdl.fit(X_trn,y_trn)\n"
     ]
    },
    {
     "name": "stdout",
     "output_type": "stream",
     "text": [
      "Forest MAE: 0.35447806281047006\n"
     ]
    }
   ],
   "source": [
    "# Random Forest Model\n",
    "forest_mae = get_random_forest_mae(x_train_t, x_test_t, y_train_t, y_test_t)\n",
    "print(f\"Forest MAE: {forest_mae}\")"
   ]
  },
  {
   "cell_type": "code",
   "execution_count": 14,
   "metadata": {},
   "outputs": [
    {
     "name": "stdout",
     "output_type": "stream",
     "text": [
      "Boostest Model 0.37714127096772393\n"
     ]
    }
   ],
   "source": [
    "from xgboost import XGBRegressor\n",
    "\n",
    "mdlXgb = XGBRegressor(n_estimators = 5000, learning_rate = 0.01, max_depth = 5)\n",
    "mdlXgb.fit(x_train_t, y_train_t)\n",
    "y_test_pred = mdlXgb.predict(x_test_t)\n",
    "boosted_mae = mean_absolute_error(y_test_t, y_test_pred)\n",
    "print(f\"Boostest Model {boosted_mae}\")"
   ]
  },
  {
   "cell_type": "code",
   "execution_count": 15,
   "metadata": {},
   "outputs": [
    {
     "data": {
      "text/plain": [
       "<seaborn.axisgrid.PairGrid at 0x1100d39ca90>"
      ]
     },
     "execution_count": 15,
     "metadata": {},
     "output_type": "execute_result"
    },
    {
     "data": {
      "image/png": "[encoded data removed]",
      "text/plain": [
       "<Figure size 720x720 with 20 Axes>"
      ]
     },
     "metadata": {
      "needs_background": "light"
     },
     "output_type": "display_data"
    }
   ],
   "source": [
    "import seaborn as sns\n",
    "\n",
    "sns.pairplot(df)"
   ]
  },
  {
   "cell_type": "code",
   "execution_count": 16,
   "metadata": {},
   "outputs": [],
   "source": [
    "# define our variables, we want to determine the status so that is our y, all other factors are treated as independent to that event\n",
    "\n",
    "date1 = df.loc[:,[\"Created Date\"]]\n",
    "date2 = df.loc[:,[\"Closed Date\"]]\n"
   ]
  },
  {
   "cell_type": "code",
   "execution_count": 17,
   "metadata": {},
   "outputs": [
    {
     "data": {
      "text/html": [
       "<div>\n",
       "<style scoped>\n",
       "    .dataframe tbody tr th:only-of-type {\n",
       "        vertical-align: middle;\n",
       "    }\n",
       "\n",
       "    .dataframe tbody tr th {\n",
       "        vertical-align: top;\n",
       "    }\n",
       "\n",
       "    .dataframe thead th {\n",
       "        text-align: right;\n",
       "    }\n",
       "</style>\n",
       "<table border=\"1\" class=\"dataframe\">\n",
       "  <thead>\n",
       "    <tr style=\"text-align: right;\">\n",
       "      <th></th>\n",
       "      <th>Created Date</th>\n",
       "    </tr>\n",
       "  </thead>\n",
       "  <tbody>\n",
       "    <tr>\n",
       "      <th>0</th>\n",
       "      <td>2019-03-14 03:02:15</td>\n",
       "    </tr>\n",
       "    <tr>\n",
       "      <th>1</th>\n",
       "      <td>2020-04-07 07:06:32</td>\n",
       "    </tr>\n",
       "    <tr>\n",
       "      <th>2</th>\n",
       "      <td>2020-02-12 01:55:04</td>\n",
       "    </tr>\n",
       "    <tr>\n",
       "      <th>3</th>\n",
       "      <td>2019-12-10 02:17:04</td>\n",
       "    </tr>\n",
       "    <tr>\n",
       "      <th>4</th>\n",
       "      <td>2019-12-10 02:51:24</td>\n",
       "    </tr>\n",
       "  </tbody>\n",
       "</table>\n",
       "</div>"
      ],
      "text/plain": [
       "          Created Date\n",
       "0  2019-03-14 03:02:15\n",
       "1  2020-04-07 07:06:32\n",
       "2  2020-02-12 01:55:04\n",
       "3  2019-12-10 02:17:04\n",
       "4  2019-12-10 02:51:24"
      ]
     },
     "execution_count": 17,
     "metadata": {},
     "output_type": "execute_result"
    }
   ],
   "source": [
    "date1.head()"
   ]
  },
  {
   "cell_type": "code",
   "execution_count": 18,
   "metadata": {},
   "outputs": [
    {
     "data": {
      "text/html": [
       "<div>\n",
       "<style scoped>\n",
       "    .dataframe tbody tr th:only-of-type {\n",
       "        vertical-align: middle;\n",
       "    }\n",
       "\n",
       "    .dataframe tbody tr th {\n",
       "        vertical-align: top;\n",
       "    }\n",
       "\n",
       "    .dataframe thead th {\n",
       "        text-align: right;\n",
       "    }\n",
       "</style>\n",
       "<table border=\"1\" class=\"dataframe\">\n",
       "  <thead>\n",
       "    <tr style=\"text-align: right;\">\n",
       "      <th></th>\n",
       "      <th>Closed Date</th>\n",
       "    </tr>\n",
       "  </thead>\n",
       "  <tbody>\n",
       "    <tr>\n",
       "      <th>0</th>\n",
       "      <td>2020-11-23 01:41:21</td>\n",
       "    </tr>\n",
       "    <tr>\n",
       "      <th>1</th>\n",
       "      <td>2020-11-23 12:02:05</td>\n",
       "    </tr>\n",
       "    <tr>\n",
       "      <th>2</th>\n",
       "      <td>2020-02-12 12:57:35</td>\n",
       "    </tr>\n",
       "    <tr>\n",
       "      <th>3</th>\n",
       "      <td>2019-12-11 09:57:54</td>\n",
       "    </tr>\n",
       "    <tr>\n",
       "      <th>4</th>\n",
       "      <td>2019-12-10 03:00:05</td>\n",
       "    </tr>\n",
       "  </tbody>\n",
       "</table>\n",
       "</div>"
      ],
      "text/plain": [
       "           Closed Date\n",
       "0  2020-11-23 01:41:21\n",
       "1  2020-11-23 12:02:05\n",
       "2  2020-02-12 12:57:35\n",
       "3  2019-12-11 09:57:54\n",
       "4  2019-12-10 03:00:05"
      ]
     },
     "execution_count": 18,
     "metadata": {},
     "output_type": "execute_result"
    }
   ],
   "source": [
    "date2.head()"
   ]
  },
  {
   "cell_type": "code",
   "execution_count": 19,
   "metadata": {},
   "outputs": [],
   "source": [
    "def date_list_generator(data):\n",
    "    app = []\n",
    "    len(data)\n",
    "    for i in data:\n",
    "        for j in data[i]:\n",
    "            app.append(str(j).replace(\"-\",\"/\")[2:])\n",
    "    return app\n"
   ]
  },
  {
   "cell_type": "code",
   "execution_count": 20,
   "metadata": {},
   "outputs": [],
   "source": [
    "date_1_list = date_list_generator(date1)\n",
    "date_2_list = date_list_generator(date2)"
   ]
  },
  {
   "cell_type": "code",
   "execution_count": 21,
   "metadata": {},
   "outputs": [
    {
     "data": {
      "text/plain": [
       "True"
      ]
     },
     "execution_count": 21,
     "metadata": {},
     "output_type": "execute_result"
    }
   ],
   "source": [
    "len(date_1_list) == len(date_2_list)"
   ]
  },
  {
   "cell_type": "code",
   "execution_count": 22,
   "metadata": {},
   "outputs": [],
   "source": [
    "# print(f\"First Date:\\n\\tFormat Check: {date_1_list[200]}\\n\\tLength Check: {len(date_1_list[200])}\")\n",
    "# print(f\"Second Date:\\n\\tFormat Check: {date_2_list[200]}\\n\\tLength Check: {len(date_2_list[200])}\")"
   ]
  },
  {
   "cell_type": "code",
   "execution_count": 23,
   "metadata": {},
   "outputs": [],
   "source": [
    "from datetime import datetime\n",
    "\n",
    "date1_obj = []\n",
    "\n",
    "for i in range(len(date_1_list)):\n",
    "    datetime_object_1 = datetime.strptime(date_1_list[i], '%y/%m/%d %H:%M:%S')\n",
    "    date1_obj.append(datetime_object_1)"
   ]
  },
  {
   "cell_type": "code",
   "execution_count": 24,
   "metadata": {},
   "outputs": [],
   "source": [
    "date2_obj = []\n",
    "\n",
    "for i in range(len(date_2_list)):\n",
    "    if date_2_list[i] == \"n\": \n",
    "        date_2_list[i] = date_2_list[i-1]\n",
    "    datetime_object_2 = datetime.strptime(date_2_list[i], '%y/%m/%d %H:%M:%S')\n",
    "    date2_obj.append(datetime_object_2)"
   ]
  },
  {
   "cell_type": "code",
   "execution_count": 25,
   "metadata": {},
   "outputs": [],
   "source": [
    "date_difference = []\n",
    "for i in range(len(date_2_list)):\n",
    "    date_difference.append(date2_obj[i] - date1_obj[i])"
   ]
  },
  {
   "cell_type": "code",
   "execution_count": 26,
   "metadata": {},
   "outputs": [],
   "source": [
    "# print(date_difference[0:25])"
   ]
  },
  {
   "cell_type": "code",
   "execution_count": 27,
   "metadata": {},
   "outputs": [],
   "source": [
    "average_timedeltavg = pd.to_timedelta(pd.Series(date_difference)).mean()"
   ]
  },
  {
   "cell_type": "code",
   "execution_count": 28,
   "metadata": {},
   "outputs": [
    {
     "name": "stdout",
     "output_type": "stream",
     "text": [
      "Mean Resolution: 33 days 01:34:12.793832299\n"
     ]
    }
   ],
   "source": [
    "print(f\"Mean Resolution: {average_timedeltavg}\")"
   ]
  },
  {
   "cell_type": "code",
   "execution_count": 29,
   "metadata": {},
   "outputs": [],
   "source": [
    "# for c in date1:\n",
    "#     a = date1[c][0].replace(\"-\",\"/\")[2:]\n",
    "#     b = date1[c][1].replace(\"-\",\"/\")[2:]\n",
    "# print(len(a))    "
   ]
  },
  {
   "cell_type": "code",
   "execution_count": 30,
   "metadata": {},
   "outputs": [],
   "source": [
    "# from datetime import datetime\n",
    "\n",
    "\n",
    "# datetime_object_a = datetime.strptime(a, '%y/%m/%d %H:%M:%S')\n",
    "# datetime_object_b = datetime.strptime(b, '%y/%m/%d %H:%M:%S')\n",
    "# # datetime_object = datetime.strptime(datetime_str, '%m/%d/%y %H:%M:%S')"
   ]
  },
  {
   "cell_type": "code",
   "execution_count": 31,
   "metadata": {},
   "outputs": [],
   "source": [
    "# print(f\"Date1: {datetime_object_a} \\nDate2: {datetime_object_b}\")"
   ]
  },
  {
   "cell_type": "code",
   "execution_count": 32,
   "metadata": {},
   "outputs": [],
   "source": [
    "# c = datetime_object_b - datetime_object_a"
   ]
  },
  {
   "cell_type": "code",
   "execution_count": 33,
   "metadata": {},
   "outputs": [],
   "source": [
    "# c"
   ]
  }
 ],
 "metadata": {
  "kernelspec": {
   "display_name": "base",
   "language": "python",
   "name": "python3"
  },
  "language_info": {
   "codemirror_mode": {
    "name": "ipython",
    "version": 3
   },
   "file_extension": ".py",
   "mimetype": "text/x-python",
   "name": "python",
   "nbconvert_exporter": "python",
   "pygments_lexer": "ipython3",
   "version": "3.9.7"
  },
  "orig_nbformat": 4,
  "vscode": {
   "interpreter": {
    "hash": "929fe0e2e5f62a1d6128ea6f36df941c4e99d98a5210f19d66cb6f9a8b579e4d"
   }
  }
 },
 "nbformat": 4,
 "nbformat_minor": 2
}
